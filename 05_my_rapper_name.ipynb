{
 "cells": [
  {
   "cell_type": "markdown",
   "id": "f2d07bbb",
   "metadata": {},
   "source": [
    "# The Algorithm\n",
    "\n",
    "Create a string variable with your **first name**, **last name**, and **favorite color**.  \n",
    "Tokenize and **sort the tokens in ascending order**.\n",
    "\n",
    "### Steps to generate your rapper name:\n",
    "\n",
    "1. **Token ID of the first letter of your first name - 1**\n",
    "2. **Last letter of your last name + 1**\n",
    "3. **Final token index + First token index + Average of the middle indices**\n",
    "\n",
    "**Formula:** Rapper name = decode([1, 2, 3])\n",
    "\n",
    "> **Note:**  \n",
    "> Add **+1** to the token ID **if it contains non-alphanumeric characters**."
   ]
  },
  {
   "cell_type": "code",
   "execution_count": null,
   "id": "9a42ede5",
   "metadata": {},
   "outputs": [],
   "source": [
    "# Import the libs\n",
    "import numpy as np\n",
    "import tiktoken "
   ]
  },
  {
   "cell_type": "code",
   "execution_count": 2,
   "id": "0c95d93c",
   "metadata": {},
   "outputs": [
    {
     "data": {
      "text/plain": [
       "100277"
      ]
     },
     "execution_count": 2,
     "metadata": {},
     "output_type": "execute_result"
    }
   ],
   "source": [
    "tokenizer = tiktoken.get_encoding(\"cl100k_base\")\n",
    "tokenizer.n_vocab"
   ]
  },
  {
   "cell_type": "code",
   "execution_count": 13,
   "id": "962f357d",
   "metadata": {},
   "outputs": [
    {
     "data": {
      "text/plain": [
       "[277, 1645, 4458, 5721, 6307]"
      ]
     },
     "execution_count": 13,
     "metadata": {},
     "output_type": "execute_result"
    }
   ],
   "source": [
    "# name, surname and color\n",
    "n_s_c = \"hamza acar green\"\n",
    "tokens = tokenizer.encode(n_s_c)\n",
    "tokens.sort()\n",
    "tokens"
   ]
  },
  {
   "cell_type": "code",
   "execution_count": 29,
   "id": "a99b805a",
   "metadata": {},
   "outputs": [
    {
     "name": "stdout",
     "output_type": "stream",
     "text": [
      "First step: 70\n",
      "Second step: 82\n",
      "Third step: 11674\n"
     ]
    },
    {
     "data": {
      "text/plain": [
       "[70, 82, 11674]"
      ]
     },
     "execution_count": 29,
     "metadata": {},
     "output_type": "execute_result"
    }
   ],
   "source": [
    "first_step = tokenizer.encode(\"h\")[0]-1\n",
    "print(f\"First step: {first_step}\")\n",
    "\n",
    "second_step = tokenizer.encode(\"r\")[0]+1\n",
    "print(f\"Second step: {second_step}\")\n",
    "\n",
    "third_step = int(tokens[0]+tokens[-1]+np.round(sum(tokens[2:4])/len(tokens[2:4])))\n",
    "print(f\"Third step: {third_step}\")\n",
    "\n",
    "final_tokens = [first_step, second_step, third_step ]\n",
    "final_tokens"
   ]
  },
  {
   "cell_type": "code",
   "execution_count": 30,
   "id": "067d1758",
   "metadata": {},
   "outputs": [
    {
     "data": {
      "text/plain": [
       "'gsIdx'"
      ]
     },
     "execution_count": 30,
     "metadata": {},
     "output_type": "execute_result"
    }
   ],
   "source": [
    "# My rapper name (wth?)\n",
    "rapper_name = tokenizer.decode(final_tokens)\n",
    "rapper_name\n"
   ]
  }
 ],
 "metadata": {
  "kernelspec": {
   "display_name": "base",
   "language": "python",
   "name": "python3"
  },
  "language_info": {
   "codemirror_mode": {
    "name": "ipython",
    "version": 3
   },
   "file_extension": ".py",
   "mimetype": "text/x-python",
   "name": "python",
   "nbconvert_exporter": "python",
   "pygments_lexer": "ipython3",
   "version": "3.13.5"
  }
 },
 "nbformat": 4,
 "nbformat_minor": 5
}
