{
 "cells": [
  {
   "cell_type": "markdown",
   "id": "834c60b6",
   "metadata": {},
   "source": [
    "# Exercise 1: Token Count by Word Length\n",
    "\n",
    "Using gbt4 tokenizer to count the tokens by word lengths"
   ]
  },
  {
   "cell_type": "code",
   "execution_count": 1,
   "id": "b4433801",
   "metadata": {},
   "outputs": [],
   "source": [
    "# Importing the libs\n",
    "import numpy as np\n",
    "import matplotlib.pyplot as plt\n",
    "import re\n",
    "import requests"
   ]
  },
  {
   "cell_type": "code",
   "execution_count": 5,
   "id": "f09d8a84",
   "metadata": {},
   "outputs": [],
   "source": [
    "import tiktoken"
   ]
  },
  {
   "cell_type": "code",
   "execution_count": 7,
   "id": "e44b7904",
   "metadata": {},
   "outputs": [
    {
     "data": {
      "text/plain": [
       "100277"
      ]
     },
     "execution_count": 7,
     "metadata": {},
     "output_type": "execute_result"
    }
   ],
   "source": [
    "# gbt4 tokenizer\n",
    "tokenizer = tiktoken.get_encoding('cl100k_base')\n",
    "tokenizer.n_vocab"
   ]
  },
  {
   "cell_type": "code",
   "execution_count": 8,
   "id": "7a5e9c1f",
   "metadata": {},
   "outputs": [
    {
     "name": "stdout",
     "output_type": "stream",
     "text": [
      "There are 37786 words.\n"
     ]
    }
   ],
   "source": [
    "# The Time Machine book\n",
    "text = requests.get('https://www.gutenberg.org/files/35/35-0.txt').text\n",
    "\n",
    "# split by punctuation\n",
    "words = re.split(r'([,.:;—?_!\"“()\\']|--|\\s)',text)\n",
    "words = [item.strip() for item in words if item.strip()]\n",
    "print(f'There are {len(words)} words.')"
   ]
  },
  {
   "cell_type": "code",
   "execution_count": 11,
   "id": "70eea88a",
   "metadata": {},
   "outputs": [
    {
     "name": "stdout",
     "output_type": "stream",
     "text": [
      "\"***\" has 1 tokens\n",
      "\"START\" has 1 tokens\n",
      "\"OF\" has 1 tokens\n",
      "\"THE\" has 1 tokens\n",
      "\"PROJECT\" has 1 tokens\n",
      "\"GUTENBERG\" has 5 tokens\n",
      "\"EBOOK\" has 2 tokens\n",
      "\"35\" has 1 tokens\n",
      "\"***\" has 1 tokens\n",
      "\"The\" has 1 tokens\n",
      "\"Time\" has 1 tokens\n",
      "\"Machine\" has 1 tokens\n",
      "\"An\" has 1 tokens\n",
      "\"Invention\" has 2 tokens\n",
      "\"by\" has 1 tokens\n",
      "\"H\" has 1 tokens\n",
      "\".\" has 1 tokens\n",
      "\"G\" has 1 tokens\n",
      "\".\" has 1 tokens\n",
      "\"Wells\" has 2 tokens\n"
     ]
    }
   ],
   "source": [
    "for t in words[:20]:\n",
    "  print(f'\"{t}\" has {len(tokenizer.encode(t))} tokens')"
   ]
  },
  {
   "cell_type": "code",
   "execution_count": 44,
   "id": "146d69f5",
   "metadata": {},
   "outputs": [
    {
     "name": "stdout",
     "output_type": "stream",
     "text": [
      "(37786, 2)\n"
     ]
    },
    {
     "data": {
      "text/plain": [
       "array([[3, 1],\n",
       "       [5, 1],\n",
       "       [2, 1],\n",
       "       [3, 1],\n",
       "       [7, 1],\n",
       "       [9, 5],\n",
       "       [5, 2],\n",
       "       [2, 1],\n",
       "       [3, 1],\n",
       "       [3, 1]])"
      ]
     },
     "execution_count": 44,
     "metadata": {},
     "output_type": "execute_result"
    }
   ],
   "source": [
    "tokens_and_length = np.zeros((len(words),2), dtype=int)\n",
    "\n",
    "for i,w in enumerate(words):\n",
    "\n",
    "    tokens = len(tokenizer.encode(w))\n",
    "    length = len(w)\n",
    "\n",
    "    tokens_and_length[i,0] = length\n",
    "    tokens_and_length[i,1] = tokens\n",
    "print(tokens_and_length.shape)\n",
    "tokens_and_length[:10]"
   ]
  },
  {
   "cell_type": "code",
   "execution_count": 45,
   "id": "b2b95835",
   "metadata": {},
   "outputs": [],
   "source": [
    "uniq_token_lengths, uniq_token_counts = np.unique(tokens_and_length[:,0], return_counts=True)\n",
    "uniq_word_lengths, uniq_word_counts = np.unique(tokens_and_length[:,1], return_counts=True)\n"
   ]
  },
  {
   "cell_type": "code",
   "execution_count": 46,
   "id": "9ffd3c30",
   "metadata": {},
   "outputs": [
    {
     "name": "stdout",
     "output_type": "stream",
     "text": [
      "Unique ammount of tokens: [ 1  2  3  4  5  6  7  8  9 10 11 12 13 14 15 16 17 18 19 20].\n",
      "Counts: [7233 5283 7341 5804 3597 2544 2210 1444 1007  679  278  222   79   44\n",
      "    9    5    3    2    1    1].\n"
     ]
    }
   ],
   "source": [
    "print(f\"Unique ammount of tokens: {uniq_token_lengths}.\")\n",
    "print(f\"Counts: {uniq_token_counts}.\")"
   ]
  },
  {
   "cell_type": "code",
   "execution_count": 47,
   "id": "7356f348",
   "metadata": {},
   "outputs": [
    {
     "name": "stdout",
     "output_type": "stream",
     "text": [
      "Unique ammount of word lengths: [1 2 3 4 5 6 7].\n",
      "Counts: [30766  5556  1330   115    16     1     2].\n"
     ]
    }
   ],
   "source": [
    "print(f\"Unique ammount of word lengths: {uniq_word_lengths}.\")\n",
    "print(f\"Counts: {uniq_word_counts}.\")"
   ]
  },
  {
   "cell_type": "code",
   "execution_count": 83,
   "id": "c9eeccda",
   "metadata": {},
   "outputs": [
    {
     "data": {
      "text/plain": [
       "array([[2.97010222, 1.0284301 ],\n",
       "       [4.92951786, 0.95407818],\n",
       "       [2.05094883, 0.97710448],\n",
       "       [2.91827309, 0.99659204],\n",
       "       [7.01824476, 0.92133398],\n",
       "       [9.03814444, 5.09901425],\n",
       "       [5.0384693 , 2.09776569],\n",
       "       [2.0277634 , 1.12743438],\n",
       "       [2.98267446, 1.04237658],\n",
       "       [3.0067124 , 1.06362645]])"
      ]
     },
     "execution_count": 83,
     "metadata": {},
     "output_type": "execute_result"
    }
   ],
   "source": [
    "# Adding some noise for better visualization\n",
    "\n",
    "scatterArray = np.zeros((len(words),2))\n",
    "n = 15\n",
    "i = 0\n",
    "while i<len(words):\n",
    "\n",
    "    for x,y in tokens_and_length:\n",
    "\n",
    "        x = x + (np.random.randn()/n)\n",
    "        y = y + (np.random.randn()/n)\n",
    "\n",
    "        scatterArray[i,0] = x\n",
    "        scatterArray[i,1] = y\n",
    "\n",
    "        i+=1\n",
    "    \n",
    "scatterArray[:10]"
   ]
  },
  {
   "cell_type": "code",
   "execution_count": 143,
   "id": "747b8431",
   "metadata": {},
   "outputs": [
    {
     "data": {
      "image/png": "[encoded data removed]",
      "text/plain": [
       "<Figure size 1000x400 with 1 Axes>"
      ]
     },
     "metadata": {},
     "output_type": "display_data"
    }
   ],
   "source": [
    "plt.figure(figsize=(10,4))\n",
    "plt.scatter(scatterArray[:,0],scatterArray[:,1], marker='.', s=10, c=\"g\")\n",
    "plt.gca().set(xlabel=\"Word Lengths\", ylabel=\"Token Counts\", title=\"Token Count by Word Length\", xticks = np.arange(1,max(uniq_token_lengths)+1))\n",
    "plt.show()"
   ]
  },
  {
   "cell_type": "markdown",
   "id": "d3048a6c",
   "metadata": {},
   "source": [
    "# Exercise 2: Encoding of 14-Character Words"
   ]
  },
  {
   "cell_type": "code",
   "execution_count": 105,
   "id": "fe53cfd9",
   "metadata": {},
   "outputs": [
    {
     "name": "stdout",
     "output_type": "stream",
     "text": [
      "Tokens of 'incredibleness': ['in', 'cred', 'ib', 'leness']\n",
      "Tokens of 'self-restraint': ['self', '-re', 'straint']\n",
      "Tokens of 'self-deception': ['self', '-de', 'ception']\n",
      "Tokens of 'interrogations': ['inter', 'rog', 'ations']\n",
      "Tokens of 'Undergrounders': ['Under', 'ground', 'ers']\n",
      "Tokens of 'intermittently': ['inter', 'mitt', 'ently']\n",
      "Tokens of 'potentialities': ['potential', 'ities']\n",
      "Tokens of 'aforementioned': ['a', 'fore', 'mentioned']\n",
      "Tokens of 'North-eastward': ['North', '-east', 'ward']\n",
      "Tokens of 'stratification': ['str', 'at', 'ification']\n",
      "Tokens of 'ill-controlled': ['ill', '-controlled']\n",
      "Tokens of 'investigations': ['invest', 'ig', 'ations']\n",
      "Tokens of 'mathematicians': ['math', 'ematic', 'ians']\n",
      "Tokens of 'safety-matches': ['s', 'afety', '-m', 'atches']\n",
      "Tokens of 'Time-Dimension': ['Time', '-D', 'imension']\n",
      "Tokens of 'south-westward': ['south', '-west', 'ward']\n",
      "Tokens of 'overwhelmingly': ['over', 'whelming', 'ly']\n",
      "Tokens of 'disinclination': ['dis', 'incl', 'ination']\n",
      "Tokens of 'disappointment': ['dis', 'appointment']\n",
      "Tokens of 'wool-gathering': ['wo', 'ol', '-g', 'athering']\n",
      "Tokens of 'mountaineering': ['mount', 'aine', 'ering']\n",
      "Tokens of 'starting-point': ['starting', '-point']\n",
      "Tokens of 'characteristic': ['character', 'istic']\n",
      "Tokens of 'expostulations': ['ex', 'post', 'ulations']\n",
      "Tokens of 'Psychologist’s': ['Psych', 'ologist', '’s']\n",
      "Tokens of 'differentiated': ['different', 'iated']\n",
      "Tokens of 'south-eastward': ['south', '-east', 'ward']\n",
      "Tokens of 'constellations': ['const', 'ell', 'ations']\n",
      "Tokens of 'discriminating': ['disc', 'rim', 'inating']\n",
      "Tokens of 'conversational': ['con', 'vers', 'ational']\n",
      "Tokens of 'long-continued': ['long', '-', 'continued']\n",
      "Tokens of 'interpretation': ['interpret', 'ation']\n",
      "Tokens of 'specialisation': ['special', 'isation']\n",
      "Tokens of 'blood-drinking': ['blood', '-dr', 'inking']\n",
      "Tokens of 'Nebuchadnezzar': ['N', 'eb', 'uch', 'ad', 'ne', 'zz', 'ar']\n",
      "Tokens of 'north-eastward': ['north', '-east', 'ward']\n"
     ]
    }
   ],
   "source": [
    "words_14 = []\n",
    "\n",
    "for w in words:\n",
    "    if len(w) == 14:\n",
    "        words_14.append(w)\n",
    "\n",
    "\n",
    "for w14 in set(words_14):\n",
    "\n",
    "    decoded = []\n",
    "    encoded = tokenizer.encode(w14)\n",
    "    \n",
    "    for t in encoded:\n",
    "        decoded.append( tokenizer.decode([t]) )\n",
    "\n",
    "    print(f\"Tokens of '{w14}': { decoded }\")"
   ]
  },
  {
   "cell_type": "markdown",
   "id": "afb1cd3c",
   "metadata": {},
   "source": [
    "# Exercise 3: Token Efficiency"
   ]
  },
  {
   "cell_type": "code",
   "execution_count": 148,
   "id": "6d21157e",
   "metadata": {},
   "outputs": [
    {
     "name": "stdout",
     "output_type": "stream",
     "text": [
      "A very efficient word:\n",
      "\t'communication' has 13 letters and 1 tokens.\n",
      "\n",
      "An inefficient word:\n",
      "\t'H' has 1 letters and 1 tokens.\n"
     ]
    }
   ],
   "source": [
    "efficiency = np.zeros(len(words))\n",
    "\n",
    "i = 0\n",
    "while i<len(words):\n",
    "    for x,y in tokens_and_length:\n",
    "\n",
    "        # efficiency = characters / tokens\n",
    "        # x: lenght (total characters); y: tokens\n",
    "        efficiency[i] = x/y\n",
    "\n",
    "        i+=1\n",
    "ef_idx = np.argmax(efficiency)\n",
    "ef_chr = words[ef_idx]\n",
    "\n",
    "inef_idx = np.argmin(efficiency)\n",
    "inef_chr = words[inef_idx]\n",
    "\n",
    "print(f\"A very efficient word:\\n\\t'{ef_chr}' has {len(ef_chr)} letters and {len(tokenizer.encode(ef_chr))} tokens.\")\n",
    "\n",
    "print(f\"\\nAn inefficient word:\\n\\t'{inef_chr}' has {len(inef_chr)} letters and {len(tokenizer.encode(inef_chr))} tokens.\")"
   ]
  },
  {
   "cell_type": "code",
   "execution_count": 149,
   "id": "05099156",
   "metadata": {},
   "outputs": [
    {
     "data": {
      "image/png": "[encoded data removed]",
      "text/plain": [
       "<Figure size 1600x500 with 1 Axes>"
      ]
     },
     "metadata": {},
     "output_type": "display_data"
    }
   ],
   "source": [
    "uniq_effs, uniq_effs_counts = np.unique(efficiency, return_counts=True)\n",
    "\n",
    "plt.figure(figsize=(16,5))\n",
    "plt.bar(uniq_effs, uniq_effs_counts, edgecolor=\"k\", width=0.3, color=\"g\")\n",
    "plt.gca().set(xlabel=\"Efficiency Score\", ylabel=\"Frequency\", title=\"Word Efficiency (Characters/Tokens)\" )\n",
    "plt.show()"
   ]
  }
 ],
 "metadata": {
  "kernelspec": {
   "display_name": "base",
   "language": "python",
   "name": "python3"
  },
  "language_info": {
   "codemirror_mode": {
    "name": "ipython",
    "version": 3
   },
   "file_extension": ".py",
   "mimetype": "text/x-python",
   "name": "python",
   "nbconvert_exporter": "python",
   "pygments_lexer": "ipython3",
   "version": "3.13.5"
  }
 },
 "nbformat": 4,
 "nbformat_minor": 5
}
