{
 "cells": [
  {
   "cell_type": "markdown",
   "id": "834c60b6",
   "metadata": {},
   "source": [
    "# Exercise 1: Token Count by Word Length\n",
    "\n",
    "Using gbt4 tokenizer to count the tokens by word lengths"
   ]
  },
  {
   "cell_type": "code",
   "execution_count": 1,
   "id": "b4433801",
   "metadata": {},
   "outputs": [],
   "source": [
    "# Importing the libs\n",
    "import numpy as np\n",
    "import matplotlib.pyplot as plt\n",
    "import re\n",
    "import requests"
   ]
  },
  {
   "cell_type": "code",
   "execution_count": 2,
   "id": "f09d8a84",
   "metadata": {},
   "outputs": [],
   "source": [
    "import tiktoken"
   ]
  },
  {
   "cell_type": "code",
   "execution_count": 3,
   "id": "e44b7904",
   "metadata": {},
   "outputs": [
    {
     "data": {
      "text/plain": [
       "100277"
      ]
     },
     "execution_count": 3,
     "metadata": {},
     "output_type": "execute_result"
    }
   ],
   "source": [
    "# gbt4 tokenizer\n",
    "tokenizer = tiktoken.get_encoding('cl100k_base')\n",
    "tokenizer.n_vocab"
   ]
  },
  {
   "cell_type": "code",
   "execution_count": 4,
   "id": "7a5e9c1f",
   "metadata": {},
   "outputs": [
    {
     "name": "stdout",
     "output_type": "stream",
     "text": [
      "There are 37786 words.\n"
     ]
    }
   ],
   "source": [
    "# The Time Machine book\n",
    "text = requests.get('https://www.gutenberg.org/files/35/35-0.txt').text\n",
    "\n",
    "# split by punctuation\n",
    "words = re.split(r'([,.:;—?_!\"“()\\']|--|\\s)',text)\n",
    "words = [item.strip() for item in words if item.strip()]\n",
    "print(f'There are {len(words)} words.')"
   ]
  },
  {
   "cell_type": "code",
   "execution_count": 5,
   "id": "70eea88a",
   "metadata": {},
   "outputs": [
    {
     "name": "stdout",
     "output_type": "stream",
     "text": [
      "\"***\" has 1 tokens\n",
      "\"START\" has 1 tokens\n",
      "\"OF\" has 1 tokens\n",
      "\"THE\" has 1 tokens\n",
      "\"PROJECT\" has 1 tokens\n",
      "\"GUTENBERG\" has 5 tokens\n",
      "\"EBOOK\" has 2 tokens\n",
      "\"35\" has 1 tokens\n",
      "\"***\" has 1 tokens\n",
      "\"The\" has 1 tokens\n",
      "\"Time\" has 1 tokens\n",
      "\"Machine\" has 1 tokens\n",
      "\"An\" has 1 tokens\n",
      "\"Invention\" has 2 tokens\n",
      "\"by\" has 1 tokens\n",
      "\"H\" has 1 tokens\n",
      "\".\" has 1 tokens\n",
      "\"G\" has 1 tokens\n",
      "\".\" has 1 tokens\n",
      "\"Wells\" has 2 tokens\n"
     ]
    }
   ],
   "source": [
    "for t in words[:20]:\n",
    "  print(f'\"{t}\" has {len(tokenizer.encode(t))} tokens')"
   ]
  },
  {
   "cell_type": "code",
   "execution_count": 6,
   "id": "146d69f5",
   "metadata": {},
   "outputs": [
    {
     "name": "stdout",
     "output_type": "stream",
     "text": [
      "(37786, 2)\n"
     ]
    },
    {
     "data": {
      "text/plain": [
       "array([[3, 1],\n",
       "       [5, 1],\n",
       "       [2, 1],\n",
       "       [3, 1],\n",
       "       [7, 1],\n",
       "       [9, 5],\n",
       "       [5, 2],\n",
       "       [2, 1],\n",
       "       [3, 1],\n",
       "       [3, 1]])"
      ]
     },
     "execution_count": 6,
     "metadata": {},
     "output_type": "execute_result"
    }
   ],
   "source": [
    "tokens_and_length = np.zeros((len(words),2), dtype=int)\n",
    "\n",
    "for i,w in enumerate(words):\n",
    "\n",
    "    tokens = len(tokenizer.encode(w))\n",
    "    length = len(w)\n",
    "\n",
    "    tokens_and_length[i,0] = length\n",
    "    tokens_and_length[i,1] = tokens\n",
    "print(tokens_and_length.shape)\n",
    "tokens_and_length[:10]"
   ]
  },
  {
   "cell_type": "code",
   "execution_count": 7,
   "id": "b2b95835",
   "metadata": {},
   "outputs": [],
   "source": [
    "uniq_token_lengths, uniq_token_counts = np.unique(tokens_and_length[:,0], return_counts=True)\n",
    "uniq_word_lengths, uniq_word_counts = np.unique(tokens_and_length[:,1], return_counts=True)\n"
   ]
  },
  {
   "cell_type": "code",
   "execution_count": 8,
   "id": "9ffd3c30",
   "metadata": {},
   "outputs": [
    {
     "name": "stdout",
     "output_type": "stream",
     "text": [
      "Unique ammount of tokens: [ 1  2  3  4  5  6  7  8  9 10 11 12 13 14 15 16 17 18 19 20].\n",
      "Counts: [7233 5283 7341 5804 3597 2544 2210 1444 1007  679  278  222   79   44\n",
      "    9    5    3    2    1    1].\n"
     ]
    }
   ],
   "source": [
    "print(f\"Unique ammount of tokens: {uniq_token_lengths}.\")\n",
    "print(f\"Counts: {uniq_token_counts}.\")"
   ]
  },
  {
   "cell_type": "code",
   "execution_count": 9,
   "id": "7356f348",
   "metadata": {},
   "outputs": [
    {
     "name": "stdout",
     "output_type": "stream",
     "text": [
      "Unique ammount of word lengths: [1 2 3 4 5 6 7].\n",
      "Counts: [30766  5556  1330   115    16     1     2].\n"
     ]
    }
   ],
   "source": [
    "print(f\"Unique ammount of word lengths: {uniq_word_lengths}.\")\n",
    "print(f\"Counts: {uniq_word_counts}.\")"
   ]
  },
  {
   "cell_type": "code",
   "execution_count": 10,
   "id": "c9eeccda",
   "metadata": {},
   "outputs": [
    {
     "data": {
      "text/plain": [
       "array([[3.14353807, 0.99503923],\n",
       "       [5.04888648, 1.08472031],\n",
       "       [1.88915735, 0.98665657],\n",
       "       [2.96975124, 0.8978133 ],\n",
       "       [7.02233361, 0.99652129],\n",
       "       [8.99900795, 4.90163895],\n",
       "       [4.90974509, 1.9537027 ],\n",
       "       [2.07527972, 1.01208213],\n",
       "       [2.96004387, 1.06645224],\n",
       "       [2.93388381, 1.02510184]])"
      ]
     },
     "execution_count": 10,
     "metadata": {},
     "output_type": "execute_result"
    }
   ],
   "source": [
    "# Adding some noise for better visualization\n",
    "\n",
    "scatterArray = np.zeros((len(words),2))\n",
    "n = 15\n",
    "i = 0\n",
    "while i<len(words):\n",
    "\n",
    "    for x,y in tokens_and_length:\n",
    "\n",
    "        x = x + (np.random.randn()/n)\n",
    "        y = y + (np.random.randn()/n)\n",
    "\n",
    "        scatterArray[i,0] = x\n",
    "        scatterArray[i,1] = y\n",
    "\n",
    "        i+=1\n",
    "    \n",
    "scatterArray[:10]"
   ]
  },
  {
   "cell_type": "code",
   "execution_count": 11,
   "id": "747b8431",
   "metadata": {},
   "outputs": [
    {
     "data": {
      "image/png": "[encoded data removed]",
      "text/plain": [
       "<Figure size 1000x400 with 1 Axes>"
      ]
     },
     "metadata": {},
     "output_type": "display_data"
    }
   ],
   "source": [
    "plt.figure(figsize=(10,4))\n",
    "plt.scatter(scatterArray[:,0],scatterArray[:,1], marker='.', s=10, c=\"g\")\n",
    "plt.gca().set(xlabel=\"Word Lengths\", ylabel=\"Token Counts\", title=\"Token Count by Word Length\", xticks = np.arange(1,max(uniq_token_lengths)+1))\n",
    "plt.show()"
   ]
  },
  {
   "cell_type": "markdown",
   "id": "d3048a6c",
   "metadata": {},
   "source": [
    "# Exercise 2: Encoding of 14-Character Words"
   ]
  },
  {
   "cell_type": "code",
   "execution_count": 12,
   "id": "fe53cfd9",
   "metadata": {},
   "outputs": [
    {
     "name": "stdout",
     "output_type": "stream",
     "text": [
      "Tokens of 'Undergrounders': ['Under', 'ground', 'ers']\n",
      "Tokens of 'safety-matches': ['s', 'afety', '-m', 'atches']\n",
      "Tokens of 'Psychologist’s': ['Psych', 'ologist', '’s']\n",
      "Tokens of 'starting-point': ['starting', '-point']\n",
      "Tokens of 'long-continued': ['long', '-', 'continued']\n",
      "Tokens of 'Time-Dimension': ['Time', '-D', 'imension']\n",
      "Tokens of 'ill-controlled': ['ill', '-controlled']\n",
      "Tokens of 'north-eastward': ['north', '-east', 'ward']\n",
      "Tokens of 'south-eastward': ['south', '-east', 'ward']\n",
      "Tokens of 'Nebuchadnezzar': ['N', 'eb', 'uch', 'ad', 'ne', 'zz', 'ar']\n",
      "Tokens of 'wool-gathering': ['wo', 'ol', '-g', 'athering']\n",
      "Tokens of 'incredibleness': ['in', 'cred', 'ib', 'leness']\n",
      "Tokens of 'overwhelmingly': ['over', 'whelming', 'ly']\n",
      "Tokens of 'differentiated': ['different', 'iated']\n",
      "Tokens of 'investigations': ['invest', 'ig', 'ations']\n",
      "Tokens of 'mathematicians': ['math', 'ematic', 'ians']\n",
      "Tokens of 'constellations': ['const', 'ell', 'ations']\n",
      "Tokens of 'potentialities': ['potential', 'ities']\n",
      "Tokens of 'interrogations': ['inter', 'rog', 'ations']\n",
      "Tokens of 'aforementioned': ['a', 'fore', 'mentioned']\n",
      "Tokens of 'south-westward': ['south', '-west', 'ward']\n",
      "Tokens of 'self-restraint': ['self', '-re', 'straint']\n",
      "Tokens of 'mountaineering': ['mount', 'aine', 'ering']\n",
      "Tokens of 'intermittently': ['inter', 'mitt', 'ently']\n",
      "Tokens of 'disinclination': ['dis', 'incl', 'ination']\n",
      "Tokens of 'North-eastward': ['North', '-east', 'ward']\n",
      "Tokens of 'conversational': ['con', 'vers', 'ational']\n",
      "Tokens of 'discriminating': ['disc', 'rim', 'inating']\n",
      "Tokens of 'specialisation': ['special', 'isation']\n",
      "Tokens of 'disappointment': ['dis', 'appointment']\n",
      "Tokens of 'self-deception': ['self', '-de', 'ception']\n",
      "Tokens of 'characteristic': ['character', 'istic']\n",
      "Tokens of 'interpretation': ['interpret', 'ation']\n",
      "Tokens of 'blood-drinking': ['blood', '-dr', 'inking']\n",
      "Tokens of 'expostulations': ['ex', 'post', 'ulations']\n",
      "Tokens of 'stratification': ['str', 'at', 'ification']\n"
     ]
    }
   ],
   "source": [
    "words_14 = []\n",
    "\n",
    "for w in words:\n",
    "    if len(w) == 14:\n",
    "        words_14.append(w)\n",
    "\n",
    "\n",
    "for w14 in set(words_14):\n",
    "\n",
    "    decoded = []\n",
    "    encoded = tokenizer.encode(w14)\n",
    "    \n",
    "    for t in encoded:\n",
    "        decoded.append( tokenizer.decode([t]) )\n",
    "\n",
    "    print(f\"Tokens of '{w14}': { decoded }\")"
   ]
  },
  {
   "cell_type": "markdown",
   "id": "afb1cd3c",
   "metadata": {},
   "source": [
    "# Exercise 3: Token Efficiency"
   ]
  },
  {
   "cell_type": "code",
   "execution_count": 13,
   "id": "6d21157e",
   "metadata": {},
   "outputs": [
    {
     "name": "stdout",
     "output_type": "stream",
     "text": [
      "A very efficient word:\n",
      "\t'communication' has 13 letters and 1 tokens.\n",
      "\n",
      "An inefficient word:\n",
      "\t'H' has 1 letters and 1 tokens.\n"
     ]
    }
   ],
   "source": [
    "efficiency = np.zeros(len(words))\n",
    "\n",
    "i = 0\n",
    "while i<len(words):\n",
    "    for x,y in tokens_and_length:\n",
    "\n",
    "        # efficiency = characters / tokens\n",
    "        # x: lenght (total characters); y: tokens\n",
    "        efficiency[i] = x/y\n",
    "\n",
    "        i+=1\n",
    "ef_idx = np.argmax(efficiency)\n",
    "ef_chr = words[ef_idx]\n",
    "\n",
    "inef_idx = np.argmin(efficiency)\n",
    "inef_chr = words[inef_idx]\n",
    "\n",
    "print(f\"A very efficient word:\\n\\t'{ef_chr}' has {len(ef_chr)} letters and {len(tokenizer.encode(ef_chr))} tokens.\")\n",
    "\n",
    "print(f\"\\nAn inefficient word:\\n\\t'{inef_chr}' has {len(inef_chr)} letters and {len(tokenizer.encode(inef_chr))} tokens.\")"
   ]
  },
  {
   "cell_type": "code",
   "execution_count": 14,
   "id": "05099156",
   "metadata": {},
   "outputs": [
    {
     "data": {
      "image/png": "[encoded data removed]",
      "text/plain": [
       "<Figure size 1600x500 with 1 Axes>"
      ]
     },
     "metadata": {},
     "output_type": "display_data"
    }
   ],
   "source": [
    "uniq_effs, uniq_effs_counts = np.unique(efficiency, return_counts=True)\n",
    "\n",
    "plt.figure(figsize=(16,5))\n",
    "plt.bar(uniq_effs, uniq_effs_counts, edgecolor=\"k\", width=0.1, color=\"g\")\n",
    "plt.gca().set(xlabel=\"Efficiency Score\", ylabel=\"Frequency\", title=\"Word Efficiency (Characters/Tokens)\" )\n",
    "plt.show()"
   ]
  },
  {
   "cell_type": "code",
   "execution_count": 15,
   "id": "12287d55",
   "metadata": {},
   "outputs": [
    {
     "name": "stdout",
     "output_type": "stream",
     "text": [
      "Minimum score: 1.0\n",
      "Maximum score: 13.0\n"
     ]
    }
   ],
   "source": [
    "print(f\"Minimum score: {min(efficiency)}\")\n",
    "print(f\"Maximum score: {max(efficiency)}\")"
   ]
  },
  {
   "cell_type": "code",
   "execution_count": 16,
   "id": "ef2cf5ea",
   "metadata": {},
   "outputs": [
    {
     "name": "stdout",
     "output_type": "stream",
     "text": [
      "Total most efficient words: 3\n",
      "Total least efficient words: 7236\n"
     ]
    }
   ],
   "source": [
    "most_effs = np.where(efficiency==13)[0]\n",
    "least_effs = np.where(efficiency==1)[0]\n",
    "print(f\"Total most efficient words: {len(most_effs)}\")\n",
    "print(f\"Total least efficient words: {len(least_effs)}\")"
   ]
  },
  {
   "cell_type": "code",
   "execution_count": 17,
   "id": "445025f9",
   "metadata": {},
   "outputs": [
    {
     "data": {
      "text/plain": [
       "array([   15,    16,    17, ..., 37762, 37765, 37776])"
      ]
     },
     "execution_count": 17,
     "metadata": {},
     "output_type": "execute_result"
    }
   ],
   "source": [
    "least_effs"
   ]
  },
  {
   "cell_type": "code",
   "execution_count": 18,
   "id": "b36e3535",
   "metadata": {},
   "outputs": [],
   "source": [
    "least_effs_chrs = []\n",
    "for idx in least_effs:\n",
    "    least_effs_chrs.append(words[idx])"
   ]
  },
  {
   "cell_type": "code",
   "execution_count": 19,
   "id": "67368cf4",
   "metadata": {},
   "outputs": [
    {
     "name": "stdout",
     "output_type": "stream",
     "text": [
      "MOST EFFICIENT WORDS:\n",
      "'communication' has 13.0 characters per token\n",
      "'advertisement' has 13.0 characters per token\n",
      "\n",
      "LEAST EFFICIENT WORDS:\n",
      "'!' has 1.0 characters per token\n",
      "'(' has 1.0 characters per token\n",
      "')' has 1.0 characters per token\n",
      "',' has 1.0 characters per token\n",
      "'.' has 1.0 characters per token\n",
      "':' has 1.0 characters per token\n",
      "';' has 1.0 characters per token\n",
      "'?' has 1.0 characters per token\n",
      "'A' has 1.0 characters per token\n",
      "'D' has 1.0 characters per token\n",
      "'G' has 1.0 characters per token\n",
      "'H' has 1.0 characters per token\n",
      "'I' has 1.0 characters per token\n",
      "'V' has 1.0 characters per token\n",
      "'X' has 1.0 characters per token\n",
      "'XV' has 1.0 characters per token\n",
      "']' has 1.0 characters per token\n",
      "'_' has 1.0 characters per token\n",
      "'a' has 1.0 characters per token\n",
      "'—' has 1.0 characters per token\n",
      "'‘I' has 1.0 characters per token\n",
      "'’' has 1.0 characters per token\n",
      "'“' has 1.0 characters per token\n",
      "'”' has 1.0 characters per token\n",
      "'…' has 1.0 characters per token\n"
     ]
    }
   ],
   "source": [
    "print(\"MOST EFFICIENT WORDS:\")\n",
    "print(f\"'{words[most_effs[0]]}' has {max(efficiency)} characters per token\")\n",
    "print(f\"'{words[most_effs[1]]}' has {max(efficiency)} characters per token\")\n",
    "\n",
    "least_effs_chrs = []\n",
    "for idx in least_effs:\n",
    "    least_effs_chrs.append(words[idx])\n",
    "\n",
    "least_effs_chrs_array = np.array(least_effs_chrs)\n",
    "uniq_least_effs_chrs= np.unique(least_effs_chrs_array)\n",
    "\n",
    "print(\"\\nLEAST EFFICIENT WORDS:\")\n",
    "for i in uniq_least_effs_chrs:\n",
    "    print(f\"'{i}' has {min(efficiency)} characters per token\")"
   ]
  },
  {
   "cell_type": "markdown",
   "id": "6787b658",
   "metadata": {},
   "source": [
    "# Exercise 4: Tokens in Separated Words vs. Text"
   ]
  },
  {
   "cell_type": "code",
   "execution_count": 20,
   "id": "bb99d183",
   "metadata": {},
   "outputs": [
    {
     "data": {
      "text/plain": [
       "5007"
      ]
     },
     "execution_count": 20,
     "metadata": {},
     "output_type": "execute_result"
    }
   ],
   "source": [
    "# Total unique words in the book\n",
    "\n",
    "len(set(words))"
   ]
  },
  {
   "cell_type": "code",
   "execution_count": 45,
   "id": "e9c8f511",
   "metadata": {},
   "outputs": [
    {
     "name": "stdout",
     "output_type": "stream",
     "text": [
      "Total words: 10027\n"
     ]
    }
   ],
   "source": [
    "# The first 10% of GBT4 Tokenizer\n",
    "first_10per_tokens = []\n",
    "\n",
    "i = 0\n",
    "while i<(tokenizer.n_vocab):\n",
    "\n",
    "    decoded_word = tokenizer.decode([i])\n",
    "    if decoded_word != '�':\n",
    "        first_10per_tokens.append(decoded_word)\n",
    "    i+=1\n",
    "    \n",
    "    if len(first_10per_tokens)==tokenizer.n_vocab//10:\n",
    "        break\n",
    "\n",
    "print(f\"Total words: {len(first_10per_tokens)}\")"
   ]
  },
  {
   "cell_type": "code",
   "execution_count": 22,
   "id": "3cdc4f56",
   "metadata": {},
   "outputs": [
    {
     "data": {
      "text/plain": [
       "[[12488],\n",
       " [23380],\n",
       " [12766],\n",
       " [17673],\n",
       " [42555],\n",
       " [38, 1406, 965, 9745, 38],\n",
       " [36, 37725],\n",
       " [1758],\n",
       " [12488],\n",
       " [791]]"
      ]
     },
     "execution_count": 22,
     "metadata": {},
     "output_type": "execute_result"
    }
   ],
   "source": [
    "# Decoding the book word by word\n",
    "word_by_tokens = []\n",
    "for w in words:\n",
    "    token = tokenizer.encode(w)\n",
    "    word_by_tokens.append( token )\n",
    "\n",
    "word_by_tokens[:10]\n"
   ]
  },
  {
   "cell_type": "code",
   "execution_count": 119,
   "id": "09451468",
   "metadata": {},
   "outputs": [
    {
     "name": "stdout",
     "output_type": "stream",
     "text": [
      "Token 6875 is ' library'\n",
      "\n",
      "===> Our manual word split: Token appears 0 times, including:\n",
      "-------------------------------\n",
      "\n",
      "===> From encoding the full text: Token appears 1 times, including:\n",
      "-------------------------------\n",
      " might be, even a library! To me, \n",
      "\n"
     ]
    }
   ],
   "source": [
    "# Chosing a random token from first 10% of GBT4 tokenizer \n",
    "randWord = np.random.choice(first_10per_tokens)\n",
    "randToken = np.array(tokenizer.encode(randWord)).item()\n",
    "\n",
    "print(f\"Token {randToken} is '{randWord}'\")\n",
    "\n",
    "# Finding the token in the book word by word\n",
    "\n",
    "included_words_by_w = []\n",
    "for w in word_by_tokens:\n",
    "    for sub_ws in w:\n",
    "        if sub_ws == randToken:\n",
    "            included_words_by_w.append(w)\n",
    "\n",
    "print(f\"\\n===> Our manual word split: Token appears {len(included_words_by_w)} times, including:\\n-------------------------------\")\n",
    "for i in included_words_by_w:\n",
    "    print(tokenizer.decode(i))\n",
    "\n",
    "# Finding the token and its contexts in the book by raw text\n",
    "\n",
    "all_tokens = np.array(tokenizer.encode(text))\n",
    "included_words_by_rawT = np.where( all_tokens == randToken)[0]\n",
    "\n",
    "print(f\"\\n===> From encoding the full text: Token appears {len(included_words_by_rawT)} times, including:\\n-------------------------------\")\n",
    "for i in included_words_by_rawT:\n",
    "    print( tokenizer.decode( all_tokens[i-5:i+5] ), \"\\n\" )"
   ]
  },
  {
   "cell_type": "markdown",
   "id": "bc11b5e6",
   "metadata": {},
   "source": [
    "# Exercise 5: Do More Frequent Words Have Fewer Tokens?"
   ]
  },
  {
   "cell_type": "code",
   "execution_count": 162,
   "id": "1bd63e57",
   "metadata": {},
   "outputs": [
    {
     "name": "stdout",
     "output_type": "stream",
     "text": [
      "'!' appears 67 times.\n",
      "'(' appears 9 times.\n",
      "')' appears 9 times.\n",
      "'***' appears 4 times.\n",
      "',' appears 2250 times.\n",
      "'.' appears 1804 times.\n",
      "'35' appears 2 times.\n",
      "':' appears 39 times.\n",
      "';' appears 109 times.\n",
      "'?' appears 96 times.\n",
      "'A' appears 248 times.\n",
      "'About' appears 2 times.\n",
      "'Above' appears 3 times.\n",
      "'Abruptly' appears 1 times.\n",
      "'Accordingly' appears 1 times.\n",
      "'Advancement' appears 1 times.\n",
      "'Africa' appears 1 times.\n",
      "'After' appears 11 times.\n",
      "'Afterwards' appears 2 times.\n",
      "'Again' appears 2 times.\n"
     ]
    }
   ],
   "source": [
    "# Counting uniq words and their tokens\n",
    "\n",
    "freq_TotTokens_and_TokenID = {}\n",
    "\n",
    "for idx,w in enumerate(sorted(set(words))):\n",
    "\n",
    "    freq = text.count(w)\n",
    "    total_tokens = len(tokenizer.encode(w))\n",
    "\n",
    "    freq_TotTokens_and_TokenID[w] = {}\n",
    "    freq_TotTokens_and_TokenID[w][\"Frequency\"] = freq\n",
    "    freq_TotTokens_and_TokenID[w][\"Total Tokens\"] = total_tokens\n",
    "\n",
    "i = 0\n",
    "for w in freq_TotTokens_and_TokenID:\n",
    "    print(f\"'{w}' appears {freq_TotTokens_and_TokenID[w][\"Frequency\"]} times.\")\n",
    "    i+=1\n",
    "    if i==20:\n",
    "        break\n"
   ]
  },
  {
   "cell_type": "code",
   "execution_count": 196,
   "id": "3677cbfb",
   "metadata": {},
   "outputs": [
    {
     "data": {
      "image/png": "[encoded data removed]",
      "text/plain": [
       "<Figure size 1200x500 with 1 Axes>"
      ]
     },
     "metadata": {},
     "output_type": "display_data"
    }
   ],
   "source": [
    "word_freq_tokens = np.zeros((len(freq_TotTokens_and_TokenID),2),dtype=int)\n",
    "\n",
    "for idx,w in enumerate(freq_TotTokens_and_TokenID):\n",
    "    word_freq_tokens[idx,0] = freq_TotTokens_and_TokenID[w][\"Frequency\"]\n",
    "    word_freq_tokens[idx,1] = freq_TotTokens_and_TokenID[w][\"Total Tokens\"]\n",
    "\n",
    "# Making a scatter plot\n",
    "plt.figure(figsize=(12,5))\n",
    "plt.scatter(word_freq_tokens[:,0], word_freq_tokens[:,1], s=30, color=[.5,.7,.1], edgecolors=\"k\", alpha=.6)\n",
    "plt.gca().set(xlabel=\"Word Frequency (log)\", ylabel=\"Tokens\", xscale=\"log\")\n",
    "plt.show()"
   ]
  },
  {
   "cell_type": "markdown",
   "id": "22961d4f",
   "metadata": {},
   "source": [
    "# Exercise 6: Fake Words From Real Tokens"
   ]
  },
  {
   "cell_type": "code",
   "execution_count": 308,
   "id": "7e3a36d3",
   "metadata": {},
   "outputs": [
    {
     "name": "stdout",
     "output_type": "stream",
     "text": [
      "Token 2081 is 'escription'\n",
      "Token 34408 is '.Stream'\n",
      "Token 60719 is 'zers'\n",
      "\n",
      "The fake word is 'escription.Streamzers'\n"
     ]
    }
   ],
   "source": [
    "# Choosing 3 random token from GBT4 tokenizer and combining them (for fun)\n",
    "\n",
    "randTok = np.random.choice(tokenizer.n_vocab, size=3)\n",
    "fakeWords = []\n",
    "\n",
    "for i in randTok:\n",
    "    word = tokenizer.decode([i])\n",
    "    print(f\"Token {i} is '{word}'\")\n",
    "    fakeWords.append(word)\n",
    "\n",
    "print(f\"\\nThe fake word is '{\"\".join(fakeWords)}'\")\n"
   ]
  }
 ],
 "metadata": {
  "kernelspec": {
   "display_name": "base",
   "language": "python",
   "name": "python3"
  },
  "language_info": {
   "codemirror_mode": {
    "name": "ipython",
    "version": 3
   },
   "file_extension": ".py",
   "mimetype": "text/x-python",
   "name": "python",
   "nbconvert_exporter": "python",
   "pygments_lexer": "ipython3",
   "version": "3.13.5"
  }
 },
 "nbformat": 4,
 "nbformat_minor": 5
}
