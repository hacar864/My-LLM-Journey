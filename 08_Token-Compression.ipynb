{
 "cells": [
  {
   "cell_type": "markdown",
   "id": "0b94708f",
   "metadata": {},
   "source": [
    "# Exercise 1: The Books"
   ]
  },
  {
   "cell_type": "code",
   "execution_count": 53,
   "id": "09259424",
   "metadata": {},
   "outputs": [],
   "source": [
    "# Import the libs\n",
    "\n",
    "import numpy as np\n",
    "import requests\n",
    "import tiktoken\n",
    "from urllib.parse import urlparse"
   ]
  },
  {
   "cell_type": "code",
   "execution_count": 2,
   "id": "df3cb969",
   "metadata": {},
   "outputs": [
    {
     "data": {
      "text/plain": [
       "100277"
      ]
     },
     "execution_count": 2,
     "metadata": {},
     "output_type": "execute_result"
    }
   ],
   "source": [
    "gbt4_tokenizer = tiktoken.get_encoding(\"cl100k_base\")\n",
    "gbt4_tokenizer.n_vocab"
   ]
  },
  {
   "cell_type": "code",
   "execution_count": 3,
   "id": "1a52a1ca",
   "metadata": {},
   "outputs": [],
   "source": [
    "# all books have the same url format;\n",
    "# they are unique by numerical code\n",
    "baseurl = 'https://www.gutenberg.org/cache/epub/'\n",
    "\n",
    "bookurls = [\n",
    "    # code       title\n",
    "    ['84',    'Frankenstein'    ],\n",
    "    ['64317', 'GreatGatsby'     ],\n",
    "    ['11',    'AliceWonderland' ],\n",
    "    ['1513',  'RomeoJuliet'     ],\n",
    "    ['76',    'HuckFinn'        ],\n",
    "    ['219',   'HeartDarkness'   ],\n",
    "    ['2591',  'GrimmsTales'     ],\n",
    "    ['2148',  'EdgarAllenPoe'   ],\n",
    "    ['36',    'WarOfTheWorlds'  ],\n",
    "    ['829',   'GulliversTravels']\n",
    "]"
   ]
  },
  {
   "cell_type": "code",
   "execution_count": 51,
   "id": "d9dabab7",
   "metadata": {},
   "outputs": [],
   "source": [
    "infos = np.zeros( (len(bookurls),3) )\n",
    "\n",
    "for idx,(c,b) in enumerate(bookurls):\n",
    "    \n",
    "    text = ( requests.get(baseurl+c+\"/pg\"+c+\".txt\") ).text\n",
    "    tokens = gbt4_tokenizer.encode(text)\n",
    "\n",
    "    compression = len(tokens)/len(text)\n",
    "\n",
    "    infos[idx,1] = len(tokens)\n",
    "    infos[idx,0] = len(text)\n",
    "    infos[idx,2] = compression*100"
   ]
  },
  {
   "cell_type": "code",
   "execution_count": 52,
   "id": "c871827b",
   "metadata": {},
   "outputs": [
    {
     "name": "stdout",
     "output_type": "stream",
     "text": [
      "| Book Title       | Characters  | Tokens    | Compression |\n",
      "------------------------------------------------------------\n",
      "| Frankenstein     | 446,544     | 102,419   |      22.94% |\n",
      "\n",
      "| GreatGatsby      | 296,858     | 70,343    |      23.70% |\n",
      "\n",
      "| AliceWonderland  | 167,674     | 41,457    |      24.72% |\n",
      "\n",
      "| RomeoJuliet      | 167,426     | 43,761    |      26.14% |\n",
      "\n",
      "| HuckFinn         | 602,714     | 159,125   |      26.40% |\n",
      "\n",
      "| HeartDarkness    | 232,885     | 56,483    |      24.25% |\n",
      "\n",
      "| GrimmsTales      | 549,736     | 137,252   |      24.97% |\n",
      "\n",
      "| EdgarAllenPoe    | 632,131     | 144,315   |      22.83% |\n",
      "\n",
      "| WarOfTheWorlds   | 363,420     | 84,580    |      23.27% |\n",
      "\n",
      "| GulliversTravels | 611,742     | 143,560   |      23.47% |\n",
      "\n"
     ]
    }
   ],
   "source": [
    "print(\"| Book Title       | Characters  | Tokens    | Compression |\\n\"+\"-\"*60)\n",
    "\n",
    "for i in range(10):\n",
    "    print(f\"| {bookurls[i][1]:16} | {int(infos[i,0]):<11,} | {int(infos[i,1]):<8,}  | {infos[i,2]:>10.2f}% |\\n\")"
   ]
  },
  {
   "cell_type": "markdown",
   "id": "2699ae86",
   "metadata": {},
   "source": [
    "# Exercise 2: Repeat With Websites"
   ]
  },
  {
   "cell_type": "code",
   "execution_count": 54,
   "id": "5958cb2f",
   "metadata": {},
   "outputs": [],
   "source": [
    "weburls = [\n",
    "    'http://python.org/',\n",
    "    'https://pytorch.org/',\n",
    "    'https://en.wikipedia.org/wiki/List_of_English_words_containing_Q_not_followed_by_U',\n",
    "    'https://sudoku.com/',\n",
    "    'https://reddit.com/',\n",
    "    'https://visiteurope.com/en/',\n",
    "    'https://sincxpress.com/',\n",
    "    'https://openai.com/',\n",
    "    'https://theuselessweb.com/',\n",
    "    'https://maps.google.com/',\n",
    "    'https://pigeonsarentreal.co.uk/',\n",
    "]"
   ]
  },
  {
   "cell_type": "code",
   "execution_count": null,
   "id": "09931673",
   "metadata": {},
   "outputs": [],
   "source": [
    "web_infos = np.zeros( (len(weburls),3) )\n",
    "\n",
    "for idx,web in enumerate(weburls):\n",
    "    \n",
    "    text = ( requests.get(baseurl+c+\"/pg\"+c+\".txt\") ).text\n",
    "    tokens = gbt4_tokenizer.encode(text)\n",
    "\n",
    "    compression = len(tokens)/len(text)\n",
    "\n",
    "    infos[idx,1] = len(tokens)\n",
    "    infos[idx,0] = len(text)\n",
    "    infos[idx,2] = compression*100"
   ]
  }
 ],
 "metadata": {
  "kernelspec": {
   "display_name": "base",
   "language": "python",
   "name": "python3"
  },
  "language_info": {
   "codemirror_mode": {
    "name": "ipython",
    "version": 3
   },
   "file_extension": ".py",
   "mimetype": "text/x-python",
   "name": "python",
   "nbconvert_exporter": "python",
   "pygments_lexer": "ipython3",
   "version": "3.13.5"
  }
 },
 "nbformat": 4,
 "nbformat_minor": 5
}
