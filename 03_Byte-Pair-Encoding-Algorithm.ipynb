{
 "cells": [
  {
   "cell_type": "markdown",
   "id": "98592787",
   "metadata": {},
   "source": [
    "# Exercise 1: BPE in a Loop"
   ]
  },
  {
   "cell_type": "code",
   "execution_count": 30,
   "id": "3833c480",
   "metadata": {},
   "outputs": [],
   "source": [
    "# Importing the libs\n",
    "import numpy as np"
   ]
  },
  {
   "cell_type": "code",
   "execution_count": 31,
   "id": "51a4971e",
   "metadata": {},
   "outputs": [
    {
     "name": "stdout",
     "output_type": "stream",
     "text": [
      "' ' appears 7 times in the text.\n",
      "'a' appears 1 times in the text.\n",
      "'e' appears 5 times in the text.\n",
      "'g' appears 5 times in the text.\n",
      "'h' appears 4 times in the text.\n",
      "'i' appears 3 times in the text.\n",
      "'k' appears 2 times in the text.\n",
      "'l' appears 5 times in the text.\n",
      "'n' appears 1 times in the text.\n",
      "'o' appears 2 times in the text.\n",
      "'r' appears 2 times in the text.\n",
      "'s' appears 2 times in the text.\n",
      "'t' appears 1 times in the text.\n",
      "'u' appears 3 times in the text.\n",
      "'v' appears 2 times in the text.\n",
      "'y' appears 1 times in the text.\n"
     ]
    }
   ],
   "source": [
    "text = \"like liker love lovely hug hugs hugging hearts\"\n",
    "chars = list(set(text))\n",
    "chars.sort()\n",
    "for c in chars:\n",
    "    print(f\"'{c}' appears {text.count(c)} times in the text.\")"
   ]
  },
  {
   "cell_type": "code",
   "execution_count": 32,
   "id": "71171175",
   "metadata": {},
   "outputs": [
    {
     "data": {
      "text/plain": [
       "{' ': 0,\n",
       " 'a': 1,\n",
       " 'e': 2,\n",
       " 'g': 3,\n",
       " 'h': 4,\n",
       " 'i': 5,\n",
       " 'k': 6,\n",
       " 'l': 7,\n",
       " 'n': 8,\n",
       " 'o': 9,\n",
       " 'r': 10,\n",
       " 's': 11,\n",
       " 't': 12,\n",
       " 'u': 13,\n",
       " 'v': 14,\n",
       " 'y': 15}"
      ]
     },
     "execution_count": 32,
     "metadata": {},
     "output_type": "execute_result"
    }
   ],
   "source": [
    "vocab = { w:i for i,w in enumerate(chars)}\n",
    "vocab"
   ]
  },
  {
   "cell_type": "code",
   "execution_count": 33,
   "id": "6d5ad984",
   "metadata": {},
   "outputs": [
    {
     "name": "stdout",
     "output_type": "stream",
     "text": [
      "['l', 'i', 'k', 'e', ' ', 'l', 'i', 'k', 'e', 'r', ' ', 'l', 'o', 'v', 'e', ' ', 'l', 'o', 'v', 'e', 'l', 'y', ' ', 'h', 'u', 'g', ' ', 'h', 'u', 'g', 's', ' ', 'h', 'u', 'g', 'g', 'i', 'n', 'g', ' ', 'h', 'e', 'a', 'r', 't', 's']\n",
      "like liker love lovely hug hugs hugging hearts\n"
     ]
    }
   ],
   "source": [
    "# Each element in the list is a token\n",
    "listedText = list(text)\n",
    "print(listedText)\n",
    "print(text)"
   ]
  },
  {
   "cell_type": "code",
   "execution_count": 34,
   "id": "060618bb",
   "metadata": {},
   "outputs": [],
   "source": [
    "# >--------------------------------------------------------------\n",
    "def pair_stats(theText):\n",
    "\n",
    "    token_pairs = dict()\n",
    "\n",
    "    for k in range(len(theText)-1):\n",
    "\n",
    "        pair = theText[k]+theText[k+1]\n",
    "\n",
    "        if pair in token_pairs:\n",
    "            token_pairs[pair] += 1\n",
    "        \n",
    "        else:\n",
    "            token_pairs[pair] = 1\n",
    "    \n",
    "    return token_pairs\n",
    "# --------------------------------------------------------------<\n",
    "\n",
    "# >--------------------------------------------------------------\n",
    "def update_vocab(token_pairs, vocab):\n",
    "\n",
    "    newToken_idx = np.argmax( list( token_pairs.values() ) )\n",
    "    newToken = list( token_pairs.keys() )[newToken_idx]\n",
    "\n",
    "    # Updating the vocab\n",
    "    vocab[newToken] = max( vocab.values() )+1\n",
    "    \n",
    "    return vocab, newToken\n",
    "# --------------------------------------------------------------<\n",
    "\n",
    "# >--------------------------------------------------------------\n",
    "def generate_new_token_seq(prevText, newToken):\n",
    "    newText = []\n",
    "\n",
    "    i = 0\n",
    "    while i<(len(prevText)-1):\n",
    "\n",
    "        if prevText[i]+prevText[i+1] == newToken:\n",
    "            newText.append(newToken)\n",
    "            i += 2\n",
    "        else:\n",
    "            newText.append(prevText[i])\n",
    "            i += 1\n",
    "    \n",
    "    return newText\n",
    "# --------------------------------------------------------------<"
   ]
  },
  {
   "cell_type": "code",
   "execution_count": 35,
   "id": "76dec350",
   "metadata": {},
   "outputs": [],
   "source": [
    "def byte_pair_encoding_algo(n,theText,vocab):\n",
    "\n",
    "    for i in range(n):\n",
    "\n",
    "        token_pairs = pair_stats(theText)\n",
    "\n",
    "        vocab, newToken = update_vocab(token_pairs, vocab)\n",
    "\n",
    "        theText = generate_new_token_seq(theText, newToken)\n",
    "    \n",
    "    return theText, vocab\n",
    "    "
   ]
  },
  {
   "cell_type": "code",
   "execution_count": 36,
   "id": "63e96f21",
   "metadata": {},
   "outputs": [
    {
     "name": "stdout",
     "output_type": "stream",
     "text": [
      "['l', 'ike', ' l', 'ike', 'r', ' love', ' love', 'l', 'y', ' hug', ' hug', 's', ' hug', 'g']\n"
     ]
    }
   ],
   "source": [
    "newText, newVocab = byte_pair_encoding_algo(9, listedText, vocab)\n",
    "print(newText)"
   ]
  },
  {
   "cell_type": "code",
   "execution_count": null,
   "id": "c89136aa",
   "metadata": {},
   "outputs": [
    {
     "data": {
      "text/plain": [
       "{' ': 0,\n",
       " 'a': 1,\n",
       " 'e': 2,\n",
       " 'g': 3,\n",
       " 'h': 4,\n",
       " 'i': 5,\n",
       " 'k': 6,\n",
       " 'l': 7,\n",
       " 'n': 8,\n",
       " 'o': 9,\n",
       " 'r': 10,\n",
       " 's': 11,\n",
       " 't': 12,\n",
       " 'u': 13,\n",
       " 'v': 14,\n",
       " 'y': 15,\n",
       " ' h': 26,\n",
       " ' l': 27,\n",
       " ' hu': 28,\n",
       " ' hug': 29,\n",
       " 'ik': 30,\n",
       " 'ike': 31,\n",
       " ' lo': 32,\n",
       " ' lov': 33,\n",
       " ' love': 34,\n",
       " 'like': 25}"
      ]
     },
     "execution_count": 27,
     "metadata": {},
     "output_type": "execute_result"
    }
   ],
   "source": [
    "newVocab"
   ]
  }
 ],
 "metadata": {
  "kernelspec": {
   "display_name": "base",
   "language": "python",
   "name": "python3"
  },
  "language_info": {
   "codemirror_mode": {
    "name": "ipython",
    "version": 3
   },
   "file_extension": ".py",
   "mimetype": "text/x-python",
   "name": "python",
   "nbconvert_exporter": "python",
   "pygments_lexer": "ipython3",
   "version": "3.13.5"
  }
 },
 "nbformat": 4,
 "nbformat_minor": 5
}
